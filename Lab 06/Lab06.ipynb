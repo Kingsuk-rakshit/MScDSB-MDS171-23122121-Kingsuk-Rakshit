{
 "cells": [
  {
   "cell_type": "code",
   "execution_count": null,
   "metadata": {},
   "outputs": [],
   "source": [
    "import random # Importing library to use random()\n",
    "\n",
    "items = ['Feroro Rocher','Doritos','Croissant','Thumbs Up','Ice-Cream','Lays','Kurkure','Frooty','Wafer Sticks','Peanuts'] #Items List\n",
    "qty = [5,1,10,2,6,9,7,3,4,8] #Qty List\n",
    "price = [500,90,200,70,100,50,30,15,60,120] #Price List\n",
    "\n",
    "i = 1 #initial value for i i.e iteration factor\n",
    "\n",
    "while i<=100: # to get random values for eavh list 100 times\n",
    "    r1 = random.randint(0,9) #r1 to store the randomly generated value used as an index value for Items List\n",
    "    r2 = random.randint(0,9) #r2 to store the randomly generated value used as an index value for Qty List\n",
    "    r3 = random.randint(0,9) #r3 to store the randomly generated value used as an index value for Price List\n",
    "\n",
    "    # Printing all the random values\n",
    "    print('Random Index from Items List',r1,'\\n')   \n",
    "    print('Random Index from Qty List',r2,'\\n')\n",
    "    print('Random Index from Price List',r3,'\\n')\n",
    "\n",
    "    item = items[r1] #item to store the element at r1 index in items list\n",
    "    qt = qty[r2] #qt to store the element at r2 index in qty list\n",
    "    pr = price[r3] #pr to store the element at r3 index in price list\n",
    "\n",
    "    quan = str(qt) #converting qty to string to enable writing it to the file\n",
    "    cost = str(pr) #converting unit price to string to enable writing it to the file\n",
    "    com = item+','+quan+','+cost #conactenating all three to get a combination\n",
    "    print(com,'\\n')\n",
    "    \n",
    "    file = open('23122015.csv','a+') # Opening the csv file in append mode\n",
    "    file.write(com) #Writing the combination formed to the csv file\n",
    "    file.write('\\n') \n",
    "    file.close() #Closing the file"
   ]
  },
  {
   "cell_type": "code",
   "execution_count": null,
   "metadata": {},
   "outputs": [],
   "source": []
  }
 ],
 "metadata": {
  "kernelspec": {
   "display_name": "Python 3",
   "language": "python",
   "name": "python3"
  },
  "language_info": {
   "name": "python",
   "version": "3.11.4"
  },
  "orig_nbformat": 4
 },
 "nbformat": 4,
 "nbformat_minor": 2
}
